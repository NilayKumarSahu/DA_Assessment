{
 "cells": [
  {
   "cell_type": "code",
   "execution_count": 24,
   "id": "df19879e",
   "metadata": {},
   "outputs": [],
   "source": [
    "import pandas as pd"
   ]
  },
  {
   "cell_type": "code",
   "execution_count": 3,
   "id": "f6e4572a",
   "metadata": {
    "scrolled": true
   },
   "outputs": [],
   "source": [
    "data = pd.read_csv(\"Duplicate Customers - Question.csv\")\n"
   ]
  },
  {
   "cell_type": "code",
   "execution_count": 4,
   "id": "cd35b469",
   "metadata": {},
   "outputs": [
    {
     "name": "stdout",
     "output_type": "stream",
     "text": [
      "<class 'pandas.core.frame.DataFrame'>\n",
      "RangeIndex: 2161 entries, 0 to 2160\n",
      "Data columns (total 3 columns):\n",
      " #   Column              Non-Null Count  Dtype \n",
      "---  ------              --------------  ----- \n",
      " 0   customer_id         2161 non-null   int64 \n",
      " 1   customer_unique_id  2161 non-null   object\n",
      " 2   address_line_1      2161 non-null   object\n",
      "dtypes: int64(1), object(2)\n",
      "memory usage: 50.8+ KB\n"
     ]
    }
   ],
   "source": [
    "data.info()"
   ]
  },
  {
   "cell_type": "code",
   "execution_count": 5,
   "id": "2058cbd0",
   "metadata": {},
   "outputs": [
    {
     "data": {
      "text/plain": [
       "0"
      ]
     },
     "execution_count": 5,
     "metadata": {},
     "output_type": "execute_result"
    }
   ],
   "source": [
    "data.duplicated().sum()#overall duplicated values in the data"
   ]
  },
  {
   "cell_type": "code",
   "execution_count": 14,
   "id": "48580c95",
   "metadata": {},
   "outputs": [
    {
     "data": {
      "text/plain": [
       "customer_id           0\n",
       "customer_unique_id    0\n",
       "address_line_1        0\n",
       "dtype: int64"
      ]
     },
     "execution_count": 14,
     "metadata": {},
     "output_type": "execute_result"
    }
   ],
   "source": [
    "data[data.duplicated(subset=['customer_id'])].count()# duplicated values in customer_id column"
   ]
  },
  {
   "cell_type": "code",
   "execution_count": 13,
   "id": "5c7e499f",
   "metadata": {},
   "outputs": [
    {
     "data": {
      "text/plain": [
       "customer_id           0\n",
       "customer_unique_id    0\n",
       "address_line_1        0\n",
       "dtype: int64"
      ]
     },
     "execution_count": 13,
     "metadata": {},
     "output_type": "execute_result"
    }
   ],
   "source": [
    "data[data.duplicated(subset=['customer_unique_id'])].count()# duplicated values in customer_unique_id column"
   ]
  },
  {
   "cell_type": "code",
   "execution_count": 12,
   "id": "606c1dce",
   "metadata": {
    "scrolled": true
   },
   "outputs": [
    {
     "data": {
      "text/plain": [
       "customer_id           472\n",
       "customer_unique_id    472\n",
       "address_line_1        472\n",
       "dtype: int64"
      ]
     },
     "execution_count": 12,
     "metadata": {},
     "output_type": "execute_result"
    }
   ],
   "source": [
    "data[data.duplicated(subset=['address_line_1'])].count()# duplicated values in address_line_1"
   ]
  },
  {
   "cell_type": "markdown",
   "id": "1e954ddd",
   "metadata": {},
   "source": [
    "## Explanation\n",
    "count of every column is 472 because we are filtering out whole row from the data where entries in\n",
    "address_line_1 are duplicated."
   ]
  },
  {
   "cell_type": "code",
   "execution_count": 17,
   "id": "e9f84a8b",
   "metadata": {},
   "outputs": [],
   "source": [
    "df = data[data.duplicated(subset=['address_line_1'])]"
   ]
  },
  {
   "cell_type": "code",
   "execution_count": 19,
   "id": "d1acc64f",
   "metadata": {},
   "outputs": [],
   "source": [
    "df.to_csv('identified_duplicate_entries.csv', index=False)# getting duplicated entries in csv file"
   ]
  },
  {
   "cell_type": "code",
   "execution_count": 20,
   "id": "b84cab8e",
   "metadata": {},
   "outputs": [],
   "source": [
    "new_data = data.drop_duplicates(subset=['address_line_1'], keep='first')#dropping all the duplicated rows \n"
   ]
  },
  {
   "cell_type": "code",
   "execution_count": 21,
   "id": "9242dc24",
   "metadata": {},
   "outputs": [
    {
     "data": {
      "text/html": [
       "<div>\n",
       "<style scoped>\n",
       "    .dataframe tbody tr th:only-of-type {\n",
       "        vertical-align: middle;\n",
       "    }\n",
       "\n",
       "    .dataframe tbody tr th {\n",
       "        vertical-align: top;\n",
       "    }\n",
       "\n",
       "    .dataframe thead th {\n",
       "        text-align: right;\n",
       "    }\n",
       "</style>\n",
       "<table border=\"1\" class=\"dataframe\">\n",
       "  <thead>\n",
       "    <tr style=\"text-align: right;\">\n",
       "      <th></th>\n",
       "      <th>customer_id</th>\n",
       "      <th>customer_unique_id</th>\n",
       "      <th>address_line_1</th>\n",
       "    </tr>\n",
       "  </thead>\n",
       "  <tbody>\n",
       "    <tr>\n",
       "      <th>0</th>\n",
       "      <td>1142810</td>\n",
       "      <td>AGI Properties</td>\n",
       "      <td>5721 W. 88th Place</td>\n",
       "    </tr>\n",
       "    <tr>\n",
       "      <th>1</th>\n",
       "      <td>1142826</td>\n",
       "      <td>Adkins, Scott</td>\n",
       "      <td>401 West 550 North</td>\n",
       "    </tr>\n",
       "    <tr>\n",
       "      <th>2</th>\n",
       "      <td>1142827</td>\n",
       "      <td>Adkins, Scott Sr.</td>\n",
       "      <td>421 Sassafras</td>\n",
       "    </tr>\n",
       "    <tr>\n",
       "      <th>3</th>\n",
       "      <td>1142828</td>\n",
       "      <td>Adomitis.Ryan</td>\n",
       "      <td>551 Hayes Leonard Road</td>\n",
       "    </tr>\n",
       "    <tr>\n",
       "      <th>4</th>\n",
       "      <td>1142831</td>\n",
       "      <td>Ahmed, Jamil</td>\n",
       "      <td>1486 Spyglass Circle</td>\n",
       "    </tr>\n",
       "    <tr>\n",
       "      <th>...</th>\n",
       "      <td>...</td>\n",
       "      <td>...</td>\n",
       "      <td>...</td>\n",
       "    </tr>\n",
       "    <tr>\n",
       "      <th>2150</th>\n",
       "      <td>1181715</td>\n",
       "      <td>James &amp; Marsha Hall (6224184)</td>\n",
       "      <td>3031 Peterson Street</td>\n",
       "    </tr>\n",
       "    <tr>\n",
       "      <th>2151</th>\n",
       "      <td>1181717</td>\n",
       "      <td>Monroe, Carol (4665871)</td>\n",
       "      <td>5752 Houston Avenue</td>\n",
       "    </tr>\n",
       "    <tr>\n",
       "      <th>2157</th>\n",
       "      <td>1181774</td>\n",
       "      <td>Valpo Meninite Church (9939789)</td>\n",
       "      <td>1305 Silhavy Road</td>\n",
       "    </tr>\n",
       "    <tr>\n",
       "      <th>2158</th>\n",
       "      <td>1181775</td>\n",
       "      <td>Codi Rosochacki (2607483)</td>\n",
       "      <td>2951 Glenrose Street</td>\n",
       "    </tr>\n",
       "    <tr>\n",
       "      <th>2160</th>\n",
       "      <td>1181777</td>\n",
       "      <td>6445 Satin Ave. (9994909)</td>\n",
       "      <td>6445 Satin Avenue</td>\n",
       "    </tr>\n",
       "  </tbody>\n",
       "</table>\n",
       "<p>1689 rows × 3 columns</p>\n",
       "</div>"
      ],
      "text/plain": [
       "      customer_id               customer_unique_id          address_line_1\n",
       "0         1142810                   AGI Properties      5721 W. 88th Place\n",
       "1         1142826                    Adkins, Scott      401 West 550 North\n",
       "2         1142827                Adkins, Scott Sr.           421 Sassafras\n",
       "3         1142828                    Adomitis.Ryan  551 Hayes Leonard Road\n",
       "4         1142831                     Ahmed, Jamil    1486 Spyglass Circle\n",
       "...           ...                              ...                     ...\n",
       "2150      1181715    James & Marsha Hall (6224184)    3031 Peterson Street\n",
       "2151      1181717          Monroe, Carol (4665871)     5752 Houston Avenue\n",
       "2157      1181774  Valpo Meninite Church (9939789)       1305 Silhavy Road\n",
       "2158      1181775        Codi Rosochacki (2607483)    2951 Glenrose Street\n",
       "2160      1181777        6445 Satin Ave. (9994909)       6445 Satin Avenue\n",
       "\n",
       "[1689 rows x 3 columns]"
      ]
     },
     "execution_count": 21,
     "metadata": {},
     "output_type": "execute_result"
    }
   ],
   "source": [
    "new_data"
   ]
  },
  {
   "cell_type": "code",
   "execution_count": 23,
   "id": "b17e248b",
   "metadata": {},
   "outputs": [],
   "source": [
    "new_data.to_csv('cleaned_data.csv', index=False)#saving cleaned data in csv file"
   ]
  },
  {
   "cell_type": "code",
   "execution_count": null,
   "id": "fbb43165",
   "metadata": {},
   "outputs": [],
   "source": []
  }
 ],
 "metadata": {
  "kernelspec": {
   "display_name": "Python 3 (ipykernel)",
   "language": "python",
   "name": "python3"
  },
  "language_info": {
   "codemirror_mode": {
    "name": "ipython",
    "version": 3
   },
   "file_extension": ".py",
   "mimetype": "text/x-python",
   "name": "python",
   "nbconvert_exporter": "python",
   "pygments_lexer": "ipython3",
   "version": "3.10.9"
  }
 },
 "nbformat": 4,
 "nbformat_minor": 5
}
