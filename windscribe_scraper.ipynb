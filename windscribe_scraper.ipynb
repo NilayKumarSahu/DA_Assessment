{
 "cells": [
  {
   "cell_type": "code",
   "execution_count": 3,
   "id": "1d0e5991",
   "metadata": {},
   "outputs": [
    {
     "name": "stdout",
     "output_type": "stream",
     "text": [
      "General Features: ['Large Network', 'R.O.B.E.R.T.', 'No Identifying Logs', 'Strongest Encryption', 'Config Generators', 'ScribeForce', 'Simple Clients', 'Use for Free', 'Static IPs', 'Port Forwarding', 'Split Tunneling']\n"
     ]
    }
   ],
   "source": [
    "from selenium import webdriver\n",
    "from selenium.webdriver.common.by import By\n",
    "from bs4 import BeautifulSoup\n",
    "import time\n",
    "\n",
    "\n",
    "def windscribe_login(url, username, password):\n",
    "    try:\n",
    "        dr.get(url)#opening login page\n",
    "        time.sleep(2)#waiting time to load the page\n",
    "\n",
    "        try:\n",
    "            #entering username\n",
    "            uname = dr.find_element(By.ID, \"username\")#finding username input box by ID\n",
    "\n",
    "            uname.send_keys(username)#sending email\n",
    "        except Exception as e:\n",
    "            raise(f\"An error occured, {e}\")\n",
    "            \n",
    "        try:    \n",
    "            # entering password\n",
    "            pword = dr.find_element(By.ID, \"pass\")#finding password input box by ID\n",
    "\n",
    "\n",
    "            pword.send_keys(password)#sending password\n",
    "        except Exception as e:\n",
    "            raise(f\"An error occured, {e}\")\n",
    "            \n",
    "        # for clicking on the log in button\n",
    "        dr.find_element(By.XPATH, \"//button[@type='submit']\").click()\n",
    "    except Exception as e:\n",
    "        raise(f\"An error occured, {e}\")\n",
    "        \n",
    "def get_general_features(url1):\n",
    "    try:\n",
    "        dr.get(url1)\n",
    "\n",
    "        time.sleep(2)\n",
    "        try:\n",
    "            # Finding the general features section by its h2 element\n",
    "            general_features_section = dr.find_element(By.XPATH, \"//h2[text()='General Features']\")\n",
    "\n",
    "            # Finding all the a elements within the general features section\n",
    "            a_elements = general_features_section.find_elements(By.XPATH, \".//following-sibling::div[@class='item']//a\")\n",
    "            time.sleep(2)\n",
    "            # Extractinng the text after the href attribute for each \"a\" element\n",
    "            for a_element in a_elements[0:11]:\n",
    "                texts.append(a_element.text)\n",
    "            \n",
    "        except Exception as e:\n",
    "            raise(f\"An error occured, {e}\")\n",
    "            \n",
    "        # Closing the driver\n",
    "        dr.quit()\n",
    "        return texts\n",
    "    except Exception as e:\n",
    "        raise(f\"An error occured, {e}\")\n",
    "        \n",
    "        \n",
    "        \n",
    "dr = webdriver.Chrome()\n",
    "url = \"https://windscribe.com/login\"\n",
    "url1 = \"https://windscribe.com/features\"\n",
    "texts = []\n",
    "username = \"lavender1033\"\n",
    "password = \"lavender1033\"\n",
    "windscribe_login(url, username, password)\n",
    "features = get_general_features(url1)\n",
    "\n",
    "print(f\"General Features: {features}\")    "
   ]
  },
  {
   "cell_type": "code",
   "execution_count": null,
   "id": "38b1d935",
   "metadata": {},
   "outputs": [],
   "source": []
  }
 ],
 "metadata": {
  "kernelspec": {
   "display_name": "Python 3 (ipykernel)",
   "language": "python",
   "name": "python3"
  },
  "language_info": {
   "codemirror_mode": {
    "name": "ipython",
    "version": 3
   },
   "file_extension": ".py",
   "mimetype": "text/x-python",
   "name": "python",
   "nbconvert_exporter": "python",
   "pygments_lexer": "ipython3",
   "version": "3.10.9"
  }
 },
 "nbformat": 4,
 "nbformat_minor": 5
}
